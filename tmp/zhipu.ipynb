{
 "cells": [
  {
   "cell_type": "code",
   "execution_count": null,
   "id": "11df1843",
   "metadata": {},
   "outputs": [],
   "source": [
    "from zhipuai import ZhipuAI\n",
    "\n",
    "client = ZhipuAI(api_key=\"c9bcc8c8eae1267231a9abc902d7c43d.PdJbzq90JNC8ngNT\")  # 请填写您自己的APIKey\n",
    "response = client.chat.completions.create(\n",
    "    model=\"glm-4-plus\",  # 请填写您要调用的模型名称\n",
    "    messages=[\n",
    "        {\"role\": \"user\", \"content\": \"帮我设计一辆现代的，充满科技感的汽车内饰设计。这里给你一个例子:'[Photograph of a futuristic,minimalist car interior at sunset. The car features a sleek,white and yellow leather dashboard,digital display,and a quilted patterned door trim. The spacious,modern design includes a central console with a gear shifter and cup holders. The background shows a serene lake and mountains under a golden sky.]'。请你发挥想象力，设计的尽量好看。用英文回复我。长度类似示例，并且不要有其他多余的东西。用python列表的形式返回给我5个。每个prompt用双引号包裹。\"},\n",
    "    ],\n",
    ")"
   ]
  },
  {
   "cell_type": "code",
   "execution_count": 12,
   "id": "afae67e9",
   "metadata": {},
   "outputs": [
    {
     "data": {
      "text/plain": [
       "'```python\\n[\\n    \"Photograph of an ultra-modern, tech-savvy car interior during twilight. The car boasts a seamless, black and silver carbon fiber dashboard, holographic display, and laser-etched door panels. The airy, contemporary layout includes a floating central console with touch-sensitive controls and wireless charging pads. The backdrop reveals a tranquil forest and rolling hills under a purple-hued sky.\",\\n    \"Image of a cutting-edge, minimalist car interior at dawn. The interior showcases a glossy, navy blue and chrome dashboard, augmented reality heads-up display, and 3D-printed door trims. The expansive, sleek design features an integrated central console with voice-activated commands and ambient lighting. The scene outside depicts a calm beach and ocean under a soft pink sky.\",\\n    \"Snapshot of a futuristic, elegant car interior in the evening. The car presents a smooth, rose gold and matte black dashboard, interactive OLED screens, and perforated leather door inserts. The roomy, sophisticated design incorporates a streamlined central console with gesture control and temperature-regulated cup holders. The external view shows a peaceful cityscape and skyline under a twilight glow.\",\\n    \"Photograph of an advanced, stylish car interior at dusk. The interior highlights a refined, graphite gray and copper dashboard, transparent LCD display, and suede-textured door panels. The spacious, chic design includes a minimalist central console with smart assistant integration and mood lighting. The background features a serene countryside and hills under an amber sky.\",\\n    \"Image of a state-of-the-art, luxurious car interior at nightfall. The car displays a premium, titanium and pearl white dashboard, virtual reality interface, and embossed velvet door trims. The open, high-end design encompasses a modular central console with adaptive controls and integrated sound system. The outside view portrays a tranquil lake and mountains under a starlit sky.\"\\n]\\n```'"
      ]
     },
     "execution_count": 12,
     "metadata": {},
     "output_type": "execute_result"
    }
   ],
   "source": [
    "response.choices[0].message.content"
   ]
  },
  {
   "cell_type": "code",
   "execution_count": 13,
   "id": "87daad3b",
   "metadata": {},
   "outputs": [],
   "source": [
    "text = response.choices[0].message.content"
   ]
  },
  {
   "cell_type": "code",
   "execution_count": 17,
   "id": "5a28ca90",
   "metadata": {},
   "outputs": [],
   "source": [
    "import re\n",
    "\n",
    "def extract_double_quoted_content(input_string):\n",
    "    # 使用正则表达式匹配双引号之间的内容\n",
    "    pattern = r'\"(.*?)\"'\n",
    "    # 找到所有匹配的内容\n",
    "    matches = re.findall(pattern, input_string)\n",
    "    return matches\n"
   ]
  },
  {
   "cell_type": "code",
   "execution_count": 18,
   "id": "cabf2135",
   "metadata": {},
   "outputs": [
    {
     "name": "stdout",
     "output_type": "stream",
     "text": [
      "['Photograph of an ultra-modern, tech-savvy car interior during twilight. The car boasts a seamless, black and silver carbon fiber dashboard, holographic display, and laser-etched door panels. The airy, contemporary layout includes a floating central console with touch-sensitive controls and wireless charging pads. The backdrop reveals a tranquil forest and rolling hills under a purple-hued sky.', 'Image of a cutting-edge, minimalist car interior at dawn. The interior showcases a glossy, navy blue and chrome dashboard, augmented reality heads-up display, and 3D-printed door trims. The expansive, sleek design features an integrated central console with voice-activated commands and ambient lighting. The scene outside depicts a calm beach and ocean under a soft pink sky.', 'Snapshot of a futuristic, elegant car interior in the evening. The car presents a smooth, rose gold and matte black dashboard, interactive OLED screens, and perforated leather door inserts. The roomy, sophisticated design incorporates a streamlined central console with gesture control and temperature-regulated cup holders. The external view shows a peaceful cityscape and skyline under a twilight glow.', 'Photograph of an advanced, stylish car interior at dusk. The interior highlights a refined, graphite gray and copper dashboard, transparent LCD display, and suede-textured door panels. The spacious, chic design includes a minimalist central console with smart assistant integration and mood lighting. The background features a serene countryside and hills under an amber sky.', 'Image of a state-of-the-art, luxurious car interior at nightfall. The car displays a premium, titanium and pearl white dashboard, virtual reality interface, and embossed velvet door trims. The open, high-end design encompasses a modular central console with adaptive controls and integrated sound system. The outside view portrays a tranquil lake and mountains under a starlit sky.']\n"
     ]
    }
   ],
   "source": [
    "# 调用函数提取双引号之间的内容\n",
    "result_list = extract_double_quoted_content(text)\n",
    "print(result_list)"
   ]
  },
  {
   "cell_type": "code",
   "execution_count": null,
   "id": "8dab6550",
   "metadata": {},
   "outputs": [],
   "source": []
  }
 ],
 "metadata": {
  "kernelspec": {
   "display_name": "iat-flux",
   "language": "python",
   "name": "python3"
  },
  "language_info": {
   "codemirror_mode": {
    "name": "ipython",
    "version": 3
   },
   "file_extension": ".py",
   "mimetype": "text/x-python",
   "name": "python",
   "nbconvert_exporter": "python",
   "pygments_lexer": "ipython3",
   "version": "3.10.17"
  }
 },
 "nbformat": 4,
 "nbformat_minor": 5
}
